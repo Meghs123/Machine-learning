{
 "cells": [
  {
   "cell_type": "code",
   "execution_count": 1,
   "metadata": {},
   "outputs": [],
   "source": [
    "import numpy as np\n",
    "import pandas as pd\n",
    "import matplotlib.pyplot as plt"
   ]
  },
  {
   "cell_type": "code",
   "execution_count": 2,
   "metadata": {},
   "outputs": [],
   "source": [
    "from sklearn.datasets import make_blobs"
   ]
  },
  {
   "cell_type": "code",
   "execution_count": 3,
   "metadata": {},
   "outputs": [],
   "source": [
    "x,y=make_blobs(n_samples=1000,n_features=2,centers=5,random_state=3)"
   ]
  },
  {
   "cell_type": "code",
   "execution_count": 4,
   "metadata": {},
   "outputs": [
    {
     "data": {
      "image/png": "[encoded data removed]",
      "text/plain": [
       "<Figure size 432x288 with 1 Axes>"
      ]
     },
     "metadata": {
      "needs_background": "light"
     },
     "output_type": "display_data"
    }
   ],
   "source": [
    "plt.scatter(x[:,0],x[:,1])\n",
    "plt.show()"
   ]
  },
  {
   "cell_type": "code",
   "execution_count": 5,
   "metadata": {},
   "outputs": [],
   "source": [
    "k=5 #Number of centers.\n",
    "\n",
    "colors=[\"green\",\"blue\",\"red\",\"yellow\",\"gray\"]\n",
    "\n",
    "clusters={} # Store each and every information about cluster.\n",
    "\n",
    "for each_cluster in range(k):\n",
    "    \n",
    "    # Step-1 To initialise cluster centers randomly.\n",
    "    center=10*(2*np.random.random((x.shape[1],))-1)\n",
    "    \n",
    "    points=[]\n",
    "    \n",
    "    cluster={\n",
    "        'center':center,\n",
    "        'points':points,\n",
    "        'color':colors[each_cluster]\n",
    "        \n",
    "    }\n",
    "    clusters[each_cluster]=cluster\n",
    "    "
   ]
  },
  {
   "cell_type": "code",
   "execution_count": 6,
   "metadata": {},
   "outputs": [
    {
     "data": {
      "text/plain": [
       "{0: {'center': array([3.36151903, 0.37812921]),\n",
       "  'points': [],\n",
       "  'color': 'green'},\n",
       " 1: {'center': array([8.48419022, 3.12952409]), 'points': [], 'color': 'blue'},\n",
       " 2: {'center': array([ 5.01595354, -0.61498341]),\n",
       "  'points': [],\n",
       "  'color': 'red'},\n",
       " 3: {'center': array([ 2.63809072, -1.01623739]),\n",
       "  'points': [],\n",
       "  'color': 'yellow'},\n",
       " 4: {'center': array([2.45533421, 5.84410034]), 'points': [], 'color': 'gray'}}"
      ]
     },
     "execution_count": 6,
     "metadata": {},
     "output_type": "execute_result"
    }
   ],
   "source": [
    "clusters"
   ]
  },
  {
   "cell_type": "code",
   "execution_count": 7,
   "metadata": {},
   "outputs": [],
   "source": [
    "# Step 2 :- Distance and assigning points to the clusters.\n",
    "def distance(v1,v2):\n",
    "    return np.sqrt(np.sum((v1-v2)**2))"
   ]
  },
  {
   "cell_type": "code",
   "execution_count": 8,
   "metadata": {},
   "outputs": [],
   "source": [
    "# Assigning every data point to one of the cluster.\n",
    "# E-step, Expectation Step.\n",
    "def assignPointsToClusters(clusters):\n",
    "    \n",
    "  \n",
    "    for every_data_point in range (x.shape[0]):\n",
    "        dist=[]\n",
    "        current_x=x[every_data_point]\n",
    "        for kx in range(k):\n",
    "            \n",
    "            d=distance(current_x,clusters[kx]['center'])\n",
    "            dist.append(d)\n",
    "            \n",
    "        current_cluster=np.argmin(dist)\n",
    "        clusters[current_cluster]['points'].append(x[every_data_point])"
   ]
  },
  {
   "cell_type": "code",
   "execution_count": 9,
   "metadata": {},
   "outputs": [],
   "source": [
    "# M-Step , Maximisation step.\n",
    "# Step-3\n",
    "# update your cluster center by taking mean.\n",
    "def updateClusters(clusters):\n",
    "    for kx in range(k):\n",
    "        pts=np.array(clusters[kx]['points'])\n",
    "        if pts.shape[0]>0:\n",
    "            \n",
    "            #We will find out the mean.\n",
    "            new_u=pts.mean(axis=0)\n",
    "            clusters[kx]['center']=new_u\n",
    "            clusters[kx]['points']=[]"
   ]
  },
  {
   "cell_type": "code",
   "execution_count": 10,
   "metadata": {},
   "outputs": [],
   "source": [
    "def plotClusters(clusters):\n",
    "    for kx in range(k):\n",
    "        pts=np.array(clusters[kx]['points'])\n",
    "        if pts.shape[0]>0:\n",
    "            \n",
    "            plt.scatter(pts[:,0],pts[:,1],color=clusters[kx]['color'])\n",
    "        plt.scatter(clusters[kx]['center'][0],clusters[kx]['center'][1],color='black',marker='*')"
   ]
  },
  {
   "cell_type": "code",
   "execution_count": 18,
   "metadata": {},
   "outputs": [
    {
     "data": {
      "image/png": "[encoded data removed]",
      "text/plain": [
       "<Figure size 432x288 with 1 Axes>"
      ]
     },
     "metadata": {
      "needs_background": "light"
     },
     "output_type": "display_data"
    }
   ],
   "source": [
    "assignPointsToClusters(clusters)\n",
    "plotClusters(clusters)\n",
    "updateClusters(clusters)\n"
   ]
  },
  {
   "cell_type": "code",
   "execution_count": null,
   "metadata": {},
   "outputs": [],
   "source": []
  }
 ],
 "metadata": {
  "kernelspec": {
   "display_name": "Python 3",
   "language": "python",
   "name": "python3"
  },
  "language_info": {
   "codemirror_mode": {
    "name": "ipython",
    "version": 3
   },
   "file_extension": ".py",
   "mimetype": "text/x-python",
   "name": "python",
   "nbconvert_exporter": "python",
   "pygments_lexer": "ipython3",
   "version": "3.7.4"
  }
 },
 "nbformat": 4,
 "nbformat_minor": 2
}
