{
 "cells": [
  {
   "cell_type": "markdown",
   "metadata": {},
   "source": [
    "# LINEAR REGRESSION \n",
    "### Scratch Implementation"
   ]
  },
  {
   "cell_type": "code",
   "execution_count": 2,
   "metadata": {},
   "outputs": [],
   "source": [
    "import numpy as np\n",
    "import pandas as pd\n",
    "import matplotlib.pyplot as plt"
   ]
  },
  {
   "cell_type": "code",
   "execution_count": 3,
   "metadata": {},
   "outputs": [
    {
     "name": "stdout",
     "output_type": "stream",
     "text": [
      "(99,) (99,)\n",
      "[ 8.   9.1  8.4  6.9  7.7 15.6  7.3  7.   7.2 10.1 11.5  7.1 10.   8.9\n",
      "  7.9  5.6  6.3  6.7 10.4  8.5  7.4  6.3  5.4  8.9  9.4  7.5 11.9  7.8\n",
      "  7.4 10.8 10.2  6.2  7.7 13.7  8.   6.7  6.7  7.   8.3  7.4  9.9  6.1\n",
      "  7.   5.4 10.7  7.6  8.9  9.2  6.6  7.2  8.   7.8  7.9  7.   7.   7.6\n",
      "  9.1  9.   7.9  6.6 11.9  6.5  7.1  8.8  7.5  7.7  6.  10.6  6.6  8.2\n",
      "  7.9  7.1  5.6  6.4  7.5  9.8  7.  10.5  7.1  6.2  6.5  7.7  7.2  9.3\n",
      "  8.5  7.7  6.8  7.8  8.7  9.6  7.2  9.3  8.1  6.6  7.8 10.2  6.1  7.3\n",
      "  7.3]\n"
     ]
    }
   ],
   "source": [
    "#Get the training data\n",
    "\n",
    "dfx=pd.read_csv('./linearX.csv')\n",
    "dfy=pd.read_csv('./linearY.csv')\n",
    "\n",
    "dfx=dfx.values # Converting into numpy array\n",
    "dfy=dfy.values\n",
    "\n",
    "x=dfx.reshape((-1,))\n",
    "y=dfy.reshape((-1,))\n",
    "\n",
    "#print(dfx)\n",
    "#print(dfx.shape) #99 row and 1 column. \n",
    "print(x.shape,y.shape) #this output shows linear array\n",
    "print(x)"
   ]
  },
  {
   "cell_type": "markdown",
   "metadata": {},
   "source": [
    "## Data Preprocessing and Visualisation"
   ]
  },
  {
   "cell_type": "code",
   "execution_count": 5,
   "metadata": {},
   "outputs": [
    {
     "data": {
      "text/plain": [
       "<function matplotlib.pyplot.show(*args, **kw)>"
      ]
     },
     "execution_count": 5,
     "metadata": {},
     "output_type": "execute_result"
    },
    {
     "data": {
      "image/png": "[encoded data removed]",
      "text/plain": [
       "<Figure size 432x288 with 1 Axes>"
      ]
     },
     "metadata": {
      "needs_background": "light"
     },
     "output_type": "display_data"
    }
   ],
   "source": [
    "#plt.scatter(x,y)\n",
    "x=(x-x.mean())/x.std() #Normalization i.e shifting dataset to origin.\n",
    "y=y\n",
    "plt.scatter(x,y)\n",
    "plt.show"
   ]
  },
  {
   "cell_type": "markdown",
   "metadata": {},
   "source": [
    "## Gradient Descent Algorithm\n",
    "1. Start with a randon theta.\n",
    "2. Repeat until converge.\n",
    "   * Update theta according to the rule."
   ]
  },
  {
   "cell_type": "code",
   "execution_count": 12,
   "metadata": {},
   "outputs": [],
   "source": [
    "def hypothesis(x,theta):\n",
    "    return theta[0]+theta[1]*x #theta[0],intercept and theta[1],slope"
   ]
  },
  {
   "cell_type": "code",
   "execution_count": 14,
   "metadata": {},
   "outputs": [],
   "source": [
    "def error(x,y,theta):\n",
    "    error=0\n",
    "    for i in range(x.shape[0]):\n",
    "        hx=hypothesis(x[i],theta)\n",
    "        error +=(hx-y[i])**2  \n",
    "    return error\n",
    "\n",
    "# For each data point calculate the hypothesis. And calculate the array."
   ]
  },
  {
   "cell_type": "code",
   "execution_count": 15,
   "metadata": {},
   "outputs": [],
   "source": [
    "def gradient(x,y,theta):\n",
    "    grad=np.zeros((2,))\n",
    "    for i in range(x.shape[0]):\n",
    "        hx=hypothesis(x[i],theta)\n",
    "        grad[0] += (hx-y[i])\n",
    "        grad[1] += (hx-y[i])*x[i]\n",
    "        \n",
    "    return grad"
   ]
  },
  {
   "cell_type": "code",
   "execution_count": 16,
   "metadata": {},
   "outputs": [],
   "source": [
    "def gradientdescent(x,y,learning_rate=0.001):\n",
    "    \n",
    "    #random theta\n",
    "    theta=np.array((-2.0,0.0))\n",
    "    max_iteration=100\n",
    "    itr=0\n",
    "    error_list=[]\n",
    "    theta_list=[]\n",
    "    while(itr<=max_iteration):\n",
    "        grad=gradient(x,y,theta)\n",
    "        err=error(x,y,theta)\n",
    "        error_list.append(err)\n",
    "        theta_list.append(theta)\n",
    "        theta[0] -= learning_rate*grad[0] #update theta 0 \n",
    "        theta[1] -= learning_rate*grad[1] #update theta 1\n",
    "        itr +=1\n",
    "    return theta,error_list,theta_list"
   ]
  },
  {
   "cell_type": "code",
   "execution_count": 17,
   "metadata": {},
   "outputs": [],
   "source": [
    "final_theta,error_list,theta_list=gradientdescent(x,y)"
   ]
  },
  {
   "cell_type": "code",
   "execution_count": 18,
   "metadata": {},
   "outputs": [
    {
     "data": {
      "image/png": "[encoded data removed]",
      "text/plain": [
       "<Figure size 432x288 with 1 Axes>"
      ]
     },
     "metadata": {
      "needs_background": "light"
     },
     "output_type": "display_data"
    }
   ],
   "source": [
    "plt.plot(error_list)\n",
    "plt.show()\n",
    "\n",
    "#Error_list is drastically decreasing."
   ]
  },
  {
   "cell_type": "code",
   "execution_count": 19,
   "metadata": {},
   "outputs": [
    {
     "name": "stdout",
     "output_type": "stream",
     "text": [
      "[0.996554  0.0013579]\n"
     ]
    }
   ],
   "source": [
    "print(final_theta) # Value of theta[0] and theta[1] i.e values of intercept."
   ]
  },
  {
   "cell_type": "code",
   "execution_count": 20,
   "metadata": {},
   "outputs": [
    {
     "name": "stdout",
     "output_type": "stream",
     "text": [
      "[-2.         -1.11111111 -0.22222222  0.66666667  1.55555556  2.44444444\n",
      "  3.33333333  4.22222222  5.11111111  6.        ]\n"
     ]
    }
   ],
   "source": [
    "# plot the line for testing data\n",
    "xtest=np.linspace(-2,6,10)\n",
    "print(xtest)"
   ]
  },
  {
   "cell_type": "code",
   "execution_count": 23,
   "metadata": {},
   "outputs": [
    {
     "data": {
      "image/png": "[encoded data removed]",
      "text/plain": [
       "<Figure size 432x288 with 1 Axes>"
      ]
     },
     "metadata": {
      "needs_background": "light"
     },
     "output_type": "display_data"
    }
   ],
   "source": [
    "plt.scatter(x,y,label='Training Data')\n",
    "plt.plot(xtest,hypothesis(xtest,final_theta),color='red',label='prediction')\n",
    "plt.legend()\n",
    "plt.show()"
   ]
  },
  {
   "cell_type": "markdown",
   "metadata": {},
   "source": [
    "# Linear Regression \n",
    "## Scikit Learn Implementation"
   ]
  },
  {
   "cell_type": "code",
   "execution_count": 1,
   "metadata": {},
   "outputs": [],
   "source": [
    "#import libraries\n",
    "import numpy as np\n",
    "import pandas as pd\n",
    "import matplotlib.pyplot as plt "
   ]
  },
  {
   "cell_type": "code",
   "execution_count": 2,
   "metadata": {},
   "outputs": [],
   "source": [
    "# data preparation \\ data loading\n",
    "dfx=pd.read_csv('./linearX.csv')\n",
    "dfy=pd.read_csv('./linearY.csv')\n",
    "\n",
    "x=dfx.values\n",
    "y=dfy.values\n",
    "\n",
    "x=x.reshape((-1,1))\n",
    "y=y.reshape((-1,1))\n",
    "#print(x)  gives 2-D array.\n",
    "#print(x.shape)\n",
    "#print(y.shape)"
   ]
  },
  {
   "cell_type": "code",
   "execution_count": 3,
   "metadata": {},
   "outputs": [
    {
     "name": "stdout",
     "output_type": "stream",
     "text": [
      "[[0.99007]\n",
      " [0.99769]\n",
      " [0.99386]\n",
      " [0.99508]\n",
      " [0.9963 ]\n",
      " [1.0032 ]\n",
      " [0.99768]\n",
      " [0.99584]\n",
      " [0.99609]\n",
      " [0.99774]\n",
      " [1.0003 ]\n",
      " [0.99694]\n",
      " [0.99965]\n",
      " [0.99549]\n",
      " [0.99364]\n",
      " [0.99378]\n",
      " [0.99379]\n",
      " [0.99524]\n",
      " [0.9988 ]\n",
      " [0.99733]\n",
      " [0.9966 ]\n",
      " [0.9955 ]\n",
      " [0.99471]\n",
      " [0.99354]\n",
      " [0.99786]\n",
      " [0.9965 ]\n",
      " [0.9988 ]\n",
      " [0.9964 ]\n",
      " [0.99713]\n",
      " [0.9985 ]\n",
      " [0.99565]\n",
      " [0.99578]\n",
      " [0.9976 ]\n",
      " [1.0014 ]\n",
      " [0.99685]\n",
      " [0.99648]\n",
      " [0.99472]\n",
      " [0.99914]\n",
      " [0.99408]\n",
      " [0.9974 ]\n",
      " [1.0002 ]\n",
      " [0.99402]\n",
      " [0.9966 ]\n",
      " [0.99402]\n",
      " [1.0029 ]\n",
      " [0.99718]\n",
      " [0.9986 ]\n",
      " [0.9952 ]\n",
      " [0.9952 ]\n",
      " [0.9972 ]\n",
      " [0.9976 ]\n",
      " [0.9968 ]\n",
      " [0.9978 ]\n",
      " [0.9951 ]\n",
      " [0.99629]\n",
      " [0.99656]\n",
      " [0.999  ]\n",
      " [0.99836]\n",
      " [0.99396]\n",
      " [0.99387]\n",
      " [1.0004 ]\n",
      " [0.9972 ]\n",
      " [0.9972 ]\n",
      " [0.99546]\n",
      " [0.9978 ]\n",
      " [0.99596]\n",
      " [0.99572]\n",
      " [0.9992 ]\n",
      " [0.99544]\n",
      " [0.99747]\n",
      " [0.99668]\n",
      " [0.9962 ]\n",
      " [0.99346]\n",
      " [0.99514]\n",
      " [0.99476]\n",
      " [1.001  ]\n",
      " [0.9961 ]\n",
      " [0.99598]\n",
      " [0.99608]\n",
      " [0.9966 ]\n",
      " [0.99732]\n",
      " [0.9962 ]\n",
      " [0.99546]\n",
      " [0.99738]\n",
      " [0.99456]\n",
      " [0.9966 ]\n",
      " [0.99553]\n",
      " [0.9984 ]\n",
      " [0.9952 ]\n",
      " [0.997  ]\n",
      " [0.99586]\n",
      " [0.9984 ]\n",
      " [0.99542]\n",
      " [0.99655]\n",
      " [0.9962 ]\n",
      " [0.9976 ]\n",
      " [0.99464]\n",
      " [0.9983 ]\n",
      " [0.9967 ]] <class 'numpy.ndarray'>\n"
     ]
    }
   ],
   "source": [
    "#print(x,type(x))\n",
    "print(y,type(y))"
   ]
  },
  {
   "cell_type": "code",
   "execution_count": 4,
   "metadata": {},
   "outputs": [
    {
     "data": {
      "image/png": "[encoded data removed]",
      "text/plain": [
       "<Figure size 432x288 with 1 Axes>"
      ]
     },
     "metadata": {
      "needs_background": "light"
     },
     "output_type": "display_data"
    }
   ],
   "source": [
    "# plotting\n",
    "plt.scatter(x,y,color='red')\n",
    "plt.show()"
   ]
  },
  {
   "cell_type": "code",
   "execution_count": 5,
   "metadata": {},
   "outputs": [],
   "source": [
    "from sklearn.linear_model import LinearRegression"
   ]
  },
  {
   "cell_type": "code",
   "execution_count": 6,
   "metadata": {},
   "outputs": [],
   "source": [
    "model=LinearRegression() # Get the object of linearRegression class."
   ]
  },
  {
   "cell_type": "code",
   "execution_count": 7,
   "metadata": {},
   "outputs": [
    {
     "data": {
      "text/plain": [
       "LinearRegression(copy_X=True, fit_intercept=True, n_jobs=None, normalize=False)"
      ]
     },
     "execution_count": 7,
     "metadata": {},
     "output_type": "execute_result"
    }
   ],
   "source": [
    "# Now I want to fit this data set on my object.\n",
    "#Training\n",
    "model.fit(x,y)  # Scikit works on 2-D list."
   ]
  },
  {
   "cell_type": "code",
   "execution_count": 8,
   "metadata": {},
   "outputs": [],
   "source": [
    "# Prediction\n",
    "output=model.predict(x)  # Wanted to predict x."
   ]
  },
  {
   "cell_type": "code",
   "execution_count": 9,
   "metadata": {},
   "outputs": [
    {
     "name": "stdout",
     "output_type": "stream",
     "text": [
      "[0.9903092]\n",
      "[[0.00078556]]\n"
     ]
    }
   ],
   "source": [
    "bias=model.intercept_    # Intercept \n",
    "coeff=model.coef_        # Coefficient is slope i.e theta.\n",
    "\n",
    "print(bias)\n",
    "print(coeff)"
   ]
  },
  {
   "cell_type": "code",
   "execution_count": 10,
   "metadata": {},
   "outputs": [
    {
     "data": {
      "text/plain": [
       "0.43818504557920035"
      ]
     },
     "execution_count": 10,
     "metadata": {},
     "output_type": "execute_result"
    }
   ],
   "source": [
    "model.score(x,y)  #43% accuracy of this model."
   ]
  },
  {
   "cell_type": "code",
   "execution_count": 11,
   "metadata": {},
   "outputs": [
    {
     "data": {
      "image/png": "[encoded data removed]",
      "text/plain": [
       "<Figure size 432x288 with 1 Axes>"
      ]
     },
     "metadata": {
      "needs_background": "light"
     },
     "output_type": "display_data"
    }
   ],
   "source": [
    "## Visualise\n",
    "\n",
    "plt.scatter(x,y,label='data')\n",
    "plt.plot(x,output,color='black',label='prediction')\n",
    "plt.legend()\n",
    "plt.show()"
   ]
  },
  {
   "cell_type": "markdown",
   "metadata": {},
   "source": [
    "# Assignment-1\n",
    "\n",
    "#### Logistic Regression\n",
    "#####  WITHOUT SCIKIT"
   ]
  },
  {
   "cell_type": "code",
   "execution_count": 17,
   "metadata": {},
   "outputs": [],
   "source": [
    "import numpy as np\n",
    "import pandas as pd\n",
    "import matplotlib.pyplot as plt"
   ]
  },
  {
   "cell_type": "code",
   "execution_count": 19,
   "metadata": {},
   "outputs": [],
   "source": [
    "X = pd.read_csv(\"./Linear_X_Train.csv\")\n",
    "Y = pd.read_csv(\"./Linear_Y_Train.csv\")"
   ]
  },
  {
   "cell_type": "code",
   "execution_count": 20,
   "metadata": {},
   "outputs": [
    {
     "name": "stdout",
     "output_type": "stream",
     "text": [
      "(3750,) (3750,)\n"
     ]
    }
   ],
   "source": [
    "x = X.values\n",
    "y = Y.values\n",
    "x = x.reshape((-1,))\n",
    "y = y.reshape((-1,))\n",
    "print(x.shape, y.shape)"
   ]
  },
  {
   "cell_type": "code",
   "execution_count": 21,
   "metadata": {},
   "outputs": [
    {
     "name": "stdout",
     "output_type": "stream",
     "text": [
      "-0.03779466168006855 0.9920801322508517\n"
     ]
    },
    {
     "data": {
      "image/png": "[encoded data removed]",
      "text/plain": [
       "<Figure size 432x288 with 1 Axes>"
      ]
     },
     "metadata": {
      "needs_background": "light"
     },
     "output_type": "display_data"
    }
   ],
   "source": [
    "plt.scatter(x,y)\n",
    "print(x.mean() , x.std())\n",
    "#data already standarised\n",
    "x_train = (x-x.mean())/x.std()\n",
    "y_train = y\n"
   ]
  },
  {
   "cell_type": "code",
   "execution_count": 22,
   "metadata": {},
   "outputs": [
    {
     "data": {
      "text/plain": [
       "<matplotlib.collections.PathCollection at 0x27e0c758288>"
      ]
     },
     "execution_count": 22,
     "metadata": {},
     "output_type": "execute_result"
    },
    {
     "data": {
      "image/png": "[encoded data removed]",
      "text/plain": [
       "<Figure size 432x288 with 1 Axes>"
      ]
     },
     "metadata": {
      "needs_background": "light"
     },
     "output_type": "display_data"
    }
   ],
   "source": [
    "plt.scatter(x_train,y_train)"
   ]
  },
  {
   "cell_type": "code",
   "execution_count": 23,
   "metadata": {},
   "outputs": [],
   "source": [
    "def hypothesis(x,theta):\n",
    "    return theta[0]+theta[1]*x"
   ]
  },
  {
   "cell_type": "code",
   "execution_count": 24,
   "metadata": {},
   "outputs": [],
   "source": [
    "def error(x,theta,y):\n",
    "    err = 0.0\n",
    "    m = x.shape[0]\n",
    "    for i in range(m):\n",
    "        hx = hypothesis(x[i],theta)\n",
    "        err += (hx-y[i])**2\n",
    "    return err"
   ]
  },
  {
   "cell_type": "code",
   "execution_count": 25,
   "metadata": {},
   "outputs": [],
   "source": [
    "def gradient(x,theta,y):\n",
    "    m = x.shape[0]\n",
    "    grad = np.zeros((2,))\n",
    "    for i in range(m):\n",
    "        hx = hypothesis(x[i],theta)\n",
    "        grad[0] += (hx - y[i])\n",
    "        grad[1] += (hx - y[i])*x[i]\n",
    "    return grad/m"
   ]
  },
  {
   "cell_type": "code",
   "execution_count": 26,
   "metadata": {},
   "outputs": [],
   "source": [
    "def gradient_descent(x,y,learning_rate = 0.01):\n",
    "    theta = np.zeros((2,))\n",
    "    err_list = []\n",
    "    theta_list = []\n",
    "    for i in range(1000):\n",
    "        grad = gradient(x,theta,y)\n",
    "        err = error(x,theta,y)\n",
    "        err_list.append(err)\n",
    "        theta_list.append((theta[0],theta[1]))\n",
    "        \n",
    "        theta[0] -= (learning_rate*(grad[0]))\n",
    "        theta[1] -= (learning_rate*grad[1])\n",
    "    return theta,err_list,theta_list"
   ]
  },
  {
   "cell_type": "code",
   "execution_count": 27,
   "metadata": {},
   "outputs": [],
   "source": [
    "final_theta , err_list , theta_list = gradient_descent(x_train,y_train)"
   ]
  },
  {
   "cell_type": "code",
   "execution_count": 28,
   "metadata": {},
   "outputs": [
    {
     "data": {
      "text/plain": [
       "[<matplotlib.lines.Line2D at 0x27e0c758088>]"
      ]
     },
     "execution_count": 28,
     "metadata": {},
     "output_type": "execute_result"
    },
    {
     "data": {
      "image/png": "[encoded data removed]",
      "text/plain": [
       "<Figure size 432x288 with 1 Axes>"
      ]
     },
     "metadata": {
      "needs_background": "light"
     },
     "output_type": "display_data"
    }
   ],
   "source": [
    "plt.plot(err_list)"
   ]
  },
  {
   "cell_type": "code",
   "execution_count": 29,
   "metadata": {},
   "outputs": [
    {
     "name": "stdout",
     "output_type": "stream",
     "text": [
      "[ 0.68383944 79.90228731]\n"
     ]
    }
   ],
   "source": [
    "print(final_theta)"
   ]
  },
  {
   "cell_type": "code",
   "execution_count": 30,
   "metadata": {},
   "outputs": [
    {
     "name": "stdout",
     "output_type": "stream",
     "text": [
      "(1250,)\n"
     ]
    }
   ],
   "source": [
    "X_test = pd.read_csv(\"./Linear_X_Test.csv\")\n",
    "X_test = X_test.values\n",
    "X_test = X_test.reshape((-1,))\n",
    "print(X_test.shape)\n",
    "x_test = X_test"
   ]
  },
  {
   "cell_type": "code",
   "execution_count": 31,
   "metadata": {},
   "outputs": [
    {
     "data": {
      "image/png": "[encoded data removed]",
      "text/plain": [
       "<Figure size 432x288 with 1 Axes>"
      ]
     },
     "metadata": {
      "needs_background": "light"
     },
     "output_type": "display_data"
    }
   ],
   "source": [
    "plt.scatter(x_train,y_train,label='Training Data')\n",
    "plt.plot(x_test,hypothesis(x_test,final_theta),color='orange',label=\"Prediction\")\n",
    "plt.legend()\n",
    "plt.show()"
   ]
  },
  {
   "cell_type": "markdown",
   "metadata": {},
   "source": [
    "##### WITH SCIKIT"
   ]
  },
  {
   "cell_type": "code",
   "execution_count": 32,
   "metadata": {},
   "outputs": [],
   "source": [
    "from sklearn.linear_model import LinearRegression"
   ]
  },
  {
   "cell_type": "code",
   "execution_count": 33,
   "metadata": {},
   "outputs": [],
   "source": [
    "model = LinearRegression()\n",
    "x_train = X.values.reshape((-1,1))\n",
    "y_train = Y.values.reshape((-1,1))"
   ]
  },
  {
   "cell_type": "code",
   "execution_count": 34,
   "metadata": {},
   "outputs": [
    {
     "data": {
      "text/plain": [
       "LinearRegression(copy_X=True, fit_intercept=True, n_jobs=None, normalize=False)"
      ]
     },
     "execution_count": 34,
     "metadata": {},
     "output_type": "execute_result"
    }
   ],
   "source": [
    "model.fit(x_train,y_train)"
   ]
  },
  {
   "cell_type": "code",
   "execution_count": 36,
   "metadata": {},
   "outputs": [],
   "source": [
    "X_test = pd.read_csv(\"./Linear_X_Test.csv\")\n",
    "X_test = X_test.values\n",
    "x_test = X_test.reshape((-1,1))"
   ]
  },
  {
   "cell_type": "code",
   "execution_count": 37,
   "metadata": {},
   "outputs": [],
   "source": [
    "output = model.predict(x_test)"
   ]
  },
  {
   "cell_type": "code",
   "execution_count": 38,
   "metadata": {},
   "outputs": [
    {
     "name": "stdout",
     "output_type": "stream",
     "text": [
      "[3.72798828]\n",
      "[[80.54363185]]\n"
     ]
    }
   ],
   "source": [
    "bias = model.intercept_\n",
    "coeff = model.coef_\n",
    "print(bias)\n",
    "print(coeff)"
   ]
  },
  {
   "cell_type": "code",
   "execution_count": 39,
   "metadata": {},
   "outputs": [
    {
     "data": {
      "text/plain": [
       "0.9709612233822353"
      ]
     },
     "execution_count": 39,
     "metadata": {},
     "output_type": "execute_result"
    }
   ],
   "source": [
    "model.score(x_train,y_train)"
   ]
  },
  {
   "cell_type": "code",
   "execution_count": 41,
   "metadata": {},
   "outputs": [
    {
     "data": {
      "image/png": "[encoded data removed]",
      "text/plain": [
       "<Figure size 432x288 with 1 Axes>"
      ]
     },
     "metadata": {
      "needs_background": "light"
     },
     "output_type": "display_data"
    }
   ],
   "source": [
    "plt.scatter(x_train,y_train,label='data')\n",
    "plt.plot(x_test,output,color='red',label='prediction')\n",
    "plt.legend()\n",
    "plt.show()"
   ]
  },
  {
   "cell_type": "code",
   "execution_count": null,
   "metadata": {},
   "outputs": [],
   "source": []
  }
 ],
 "metadata": {
  "kernelspec": {
   "display_name": "Python 3",
   "language": "python",
   "name": "python3"
  },
  "language_info": {
   "codemirror_mode": {
    "name": "ipython",
    "version": 3
   },
   "file_extension": ".py",
   "mimetype": "text/x-python",
   "name": "python",
   "nbconvert_exporter": "python",
   "pygments_lexer": "ipython3",
   "version": "3.7.4"
  }
 },
 "nbformat": 4,
 "nbformat_minor": 2
}
